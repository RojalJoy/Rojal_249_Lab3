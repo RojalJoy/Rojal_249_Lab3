{
 "cells": [
  {
   "cell_type": "code",
   "execution_count": 3,
   "metadata": {},
   "outputs": [
    {
     "name": "stdout",
     "output_type": "stream",
     "text": [
      "Enter Your Name, Domain name and Register no as one string seperted by underscore\n",
      "The entered string is:  Rojal_OnlineGameRentalSite_2347249\n",
      "The required dictionary is :  {'Name': 'Rojal', 'Domain Name': 'OnlineGameRentalSite', 'Registerno': '2347249'}\n"
     ]
    }
   ],
   "source": [
    "def domain(stringsplit):\n",
    "    part=stringsplit.split('_')\n",
    "    name=part[0]\n",
    "    Domainname=part[1]\n",
    "    RegisterNo=part[2]\n",
    "    \n",
    "    domainvar={\n",
    "        \"Name\":name,\n",
    "        \"Domain Name\":Domainname,\n",
    "        \"Registerno\":RegisterNo\n",
    "    }\n",
    "    return domainvar\n",
    "    \n",
    "\n",
    "strings=input(print(\"Enter Your Name, Domain name and Register no as one string seperted by underscore\"))\n",
    "print(\"The entered string is: \",strings)\n",
    "print(\"The required dictionary is : \",domain(strings))\n"
   ]
  }
 ],
 "metadata": {
  "kernelspec": {
   "display_name": "Python 3",
   "language": "python",
   "name": "python3"
  },
  "language_info": {
   "codemirror_mode": {
    "name": "ipython",
    "version": 3
   },
   "file_extension": ".py",
   "mimetype": "text/x-python",
   "name": "python",
   "nbconvert_exporter": "python",
   "pygments_lexer": "ipython3",
   "version": "3.10.11"
  },
  "orig_nbformat": 4
 },
 "nbformat": 4,
 "nbformat_minor": 2
}
